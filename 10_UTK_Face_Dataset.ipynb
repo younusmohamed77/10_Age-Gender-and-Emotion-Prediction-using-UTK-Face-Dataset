{
 "cells": [
  {
   "cell_type": "markdown",
   "metadata": {
    "id": "Tcc-LQd_d3Z2"
   },
   "source": [
    "UTK Face - AGe, Gender and ethicity prediction\n",
    "\n",
    "Kaggle - https://www.kaggle.com/datasets/jangedoo/utkface-new"
   ]
  },
  {
   "cell_type": "code",
   "execution_count": 1,
   "metadata": {
    "id": "H0gkVHszdrlM"
   },
   "outputs": [
    {
     "name": "stderr",
     "output_type": "stream",
     "text": [
      "The syntax of the command is incorrect.\n",
      "'cp' is not recognized as an internal or external command,\n",
      "operable program or batch file.\n"
     ]
    }
   ],
   "source": [
    "!mkdir -p ~/.kaggle\n",
    "!cp kaggle.json ~/.kaggle/"
   ]
  },
  {
   "cell_type": "code",
   "execution_count": 2,
   "metadata": {
    "colab": {
     "base_uri": "https://localhost:8080/"
    },
    "id": "ny_ZlBw4fa6z",
    "outputId": "50612b19-d76e-4485-c939-949a57a81191"
   },
   "outputs": [
    {
     "name": "stdout",
     "output_type": "stream",
     "text": [
      "Warning: Your Kaggle API key is readable by other users on this system! To fix this, you can run 'chmod 600 /root/.kaggle/kaggle.json'\n",
      "Dataset URL: https://www.kaggle.com/datasets/jangedoo/utkface-new\n",
      "License(s): copyright-authors\n",
      "Downloading utkface-new.zip to /content\n",
      "100% 330M/331M [00:13<00:00, 29.8MB/s]\n",
      "100% 331M/331M [00:13<00:00, 25.9MB/s]\n"
     ]
    }
   ],
   "source": [
    "!kaggle datasets download -d jangedoo/utkface-new"
   ]
  },
  {
   "cell_type": "code",
   "execution_count": 10,
   "metadata": {
    "id": "3GIlXivwfc3Z"
   },
   "outputs": [],
   "source": [
    "import os\n",
    "import numpy as np\n",
    "import pandas as pd\n",
    "import matplotlib.pyplot as plt\n",
    "import seaborn as sns\n",
    "import tensorflow as tf\n",
    "import zipfile\n",
    "\n",
    "from tensorflow import keras\n",
    "from keras.layers import Dense, Flatten, Conv2D, MaxPooling2D\n",
    "from keras.models import Model # Funtonal API\n",
    "from keras.models import Sequential # Sequential API\n",
    "from keras.preprocessing.image import ImageDataGenerator\n",
    "from keras.utils import plot_model\n"
   ]
  },
  {
   "cell_type": "code",
   "execution_count": 5,
   "metadata": {
    "id": "jgWqZG5ffvuM"
   },
   "outputs": [],
   "source": [
    "zip = zipfile.ZipFile(\"/content/utkface-new.zip\", 'r')\n",
    "zip.extractall(\"/content\")\n",
    "zip.close()"
   ]
  },
  {
   "cell_type": "code",
   "execution_count": 14,
   "metadata": {
    "id": "yz48GlPcf7fb"
   },
   "outputs": [],
   "source": [
    "folder_path = \"/content/utkface_aligned_cropped/UTKFace\""
   ]
  },
  {
   "cell_type": "code",
   "execution_count": 20,
   "metadata": {
    "id": "qobBzPqAi74j"
   },
   "outputs": [],
   "source": [
    "age = []\n",
    "gender = []\n",
    "emotion = []\n",
    "img_path = []\n",
    "\n",
    "for file in os.listdir(folder_path):\n",
    "  age.append(int(file.split('_')[0]))\n",
    "  gender.append(int(file.split('_')[1]))\n",
    "  emotion.append(int(file.split('_')[2][0]))\n",
    "  img_path.append(file)"
   ]
  },
  {
   "cell_type": "code",
   "execution_count": 22,
   "metadata": {
    "colab": {
     "base_uri": "https://localhost:8080/"
    },
    "id": "l8AanTOIjtsY",
    "outputId": "652fc158-b0d7-4408-e7ca-63bbbbb65b9c"
   },
   "outputs": [
    {
     "name": "stdout",
     "output_type": "stream",
     "text": [
      "23708\n",
      "23708\n",
      "23708\n",
      "23708\n"
     ]
    }
   ],
   "source": [
    "print(len(age))\n",
    "print(len(gender))\n",
    "print(len(emotion))\n",
    "print(len(img_path))"
   ]
  },
  {
   "cell_type": "code",
   "execution_count": 27,
   "metadata": {
    "id": "_9kmXg9IkiVy"
   },
   "outputs": [],
   "source": [
    "df = pd.DataFrame({'age' : age, 'gender' : gender, 'emotion' : emotion\n",
    "                  , 'img_path' : img_path})"
   ]
  },
  {
   "cell_type": "code",
   "execution_count": 28,
   "metadata": {
    "colab": {
     "base_uri": "https://localhost:8080/",
     "height": 206
    },
    "id": "030GBIMJlDQp",
    "outputId": "009681ac-ade0-4a66-8622-8fc395738162"
   },
   "outputs": [
    {
     "data": {
      "application/vnd.google.colaboratory.intrinsic+json": {
       "summary": "{\n  \"name\": \"df\",\n  \"rows\": 23708,\n  \"fields\": [\n    {\n      \"column\": \"age\",\n      \"properties\": {\n        \"dtype\": \"number\",\n        \"std\": 19,\n        \"min\": 1,\n        \"max\": 116,\n        \"num_unique_values\": 104,\n        \"samples\": [\n          92,\n          6,\n          71\n        ],\n        \"semantic_type\": \"\",\n        \"description\": \"\"\n      }\n    },\n    {\n      \"column\": \"gender\",\n      \"properties\": {\n        \"dtype\": \"number\",\n        \"std\": 0,\n        \"min\": 0,\n        \"max\": 1,\n        \"num_unique_values\": 2,\n        \"samples\": [\n          0,\n          1\n        ],\n        \"semantic_type\": \"\",\n        \"description\": \"\"\n      }\n    },\n    {\n      \"column\": \"emotion\",\n      \"properties\": {\n        \"dtype\": \"number\",\n        \"std\": 1,\n        \"min\": 0,\n        \"max\": 4,\n        \"num_unique_values\": 5,\n        \"samples\": [\n          4,\n          2\n        ],\n        \"semantic_type\": \"\",\n        \"description\": \"\"\n      }\n    },\n    {\n      \"column\": \"img_path\",\n      \"properties\": {\n        \"dtype\": \"string\",\n        \"num_unique_values\": 23708,\n        \"samples\": [\n          \"41_1_0_20170117133203334.jpg.chip.jpg\",\n          \"60_0_0_20170117160451902.jpg.chip.jpg\"\n        ],\n        \"semantic_type\": \"\",\n        \"description\": \"\"\n      }\n    }\n  ]\n}",
       "type": "dataframe",
       "variable_name": "df"
      },
      "text/html": [
       "\n",
       "  <div id=\"df-c9dbf73b-8528-46a4-8242-8714c3ebb35e\" class=\"colab-df-container\">\n",
       "    <div>\n",
       "<style scoped>\n",
       "    .dataframe tbody tr th:only-of-type {\n",
       "        vertical-align: middle;\n",
       "    }\n",
       "\n",
       "    .dataframe tbody tr th {\n",
       "        vertical-align: top;\n",
       "    }\n",
       "\n",
       "    .dataframe thead th {\n",
       "        text-align: right;\n",
       "    }\n",
       "</style>\n",
       "<table border=\"1\" class=\"dataframe\">\n",
       "  <thead>\n",
       "    <tr style=\"text-align: right;\">\n",
       "      <th></th>\n",
       "      <th>age</th>\n",
       "      <th>gender</th>\n",
       "      <th>emotion</th>\n",
       "      <th>img_path</th>\n",
       "    </tr>\n",
       "  </thead>\n",
       "  <tbody>\n",
       "    <tr>\n",
       "      <th>0</th>\n",
       "      <td>2</td>\n",
       "      <td>1</td>\n",
       "      <td>3</td>\n",
       "      <td>2_1_3_20161219225311520.jpg.chip.jpg</td>\n",
       "    </tr>\n",
       "    <tr>\n",
       "      <th>1</th>\n",
       "      <td>45</td>\n",
       "      <td>1</td>\n",
       "      <td>3</td>\n",
       "      <td>45_1_3_20170119183505494.jpg.chip.jpg</td>\n",
       "    </tr>\n",
       "    <tr>\n",
       "      <th>2</th>\n",
       "      <td>35</td>\n",
       "      <td>0</td>\n",
       "      <td>3</td>\n",
       "      <td>35_0_3_20170119201342436.jpg.chip.jpg</td>\n",
       "    </tr>\n",
       "    <tr>\n",
       "      <th>3</th>\n",
       "      <td>16</td>\n",
       "      <td>1</td>\n",
       "      <td>4</td>\n",
       "      <td>16_1_4_20170102234841875.jpg.chip.jpg</td>\n",
       "    </tr>\n",
       "    <tr>\n",
       "      <th>4</th>\n",
       "      <td>60</td>\n",
       "      <td>1</td>\n",
       "      <td>0</td>\n",
       "      <td>60_1_0_20170110141759687.jpg.chip.jpg</td>\n",
       "    </tr>\n",
       "  </tbody>\n",
       "</table>\n",
       "</div>\n",
       "    <div class=\"colab-df-buttons\">\n",
       "\n",
       "  <div class=\"colab-df-container\">\n",
       "    <button class=\"colab-df-convert\" onclick=\"convertToInteractive('df-c9dbf73b-8528-46a4-8242-8714c3ebb35e')\"\n",
       "            title=\"Convert this dataframe to an interactive table.\"\n",
       "            style=\"display:none;\">\n",
       "\n",
       "  <svg xmlns=\"http://www.w3.org/2000/svg\" height=\"24px\" viewBox=\"0 -960 960 960\">\n",
       "    <path d=\"M120-120v-720h720v720H120Zm60-500h600v-160H180v160Zm220 220h160v-160H400v160Zm0 220h160v-160H400v160ZM180-400h160v-160H180v160Zm440 0h160v-160H620v160ZM180-180h160v-160H180v160Zm440 0h160v-160H620v160Z\"/>\n",
       "  </svg>\n",
       "    </button>\n",
       "\n",
       "  <style>\n",
       "    .colab-df-container {\n",
       "      display:flex;\n",
       "      gap: 12px;\n",
       "    }\n",
       "\n",
       "    .colab-df-convert {\n",
       "      background-color: #E8F0FE;\n",
       "      border: none;\n",
       "      border-radius: 50%;\n",
       "      cursor: pointer;\n",
       "      display: none;\n",
       "      fill: #1967D2;\n",
       "      height: 32px;\n",
       "      padding: 0 0 0 0;\n",
       "      width: 32px;\n",
       "    }\n",
       "\n",
       "    .colab-df-convert:hover {\n",
       "      background-color: #E2EBFA;\n",
       "      box-shadow: 0px 1px 2px rgba(60, 64, 67, 0.3), 0px 1px 3px 1px rgba(60, 64, 67, 0.15);\n",
       "      fill: #174EA6;\n",
       "    }\n",
       "\n",
       "    .colab-df-buttons div {\n",
       "      margin-bottom: 4px;\n",
       "    }\n",
       "\n",
       "    [theme=dark] .colab-df-convert {\n",
       "      background-color: #3B4455;\n",
       "      fill: #D2E3FC;\n",
       "    }\n",
       "\n",
       "    [theme=dark] .colab-df-convert:hover {\n",
       "      background-color: #434B5C;\n",
       "      box-shadow: 0px 1px 3px 1px rgba(0, 0, 0, 0.15);\n",
       "      filter: drop-shadow(0px 1px 2px rgba(0, 0, 0, 0.3));\n",
       "      fill: #FFFFFF;\n",
       "    }\n",
       "  </style>\n",
       "\n",
       "    <script>\n",
       "      const buttonEl =\n",
       "        document.querySelector('#df-c9dbf73b-8528-46a4-8242-8714c3ebb35e button.colab-df-convert');\n",
       "      buttonEl.style.display =\n",
       "        google.colab.kernel.accessAllowed ? 'block' : 'none';\n",
       "\n",
       "      async function convertToInteractive(key) {\n",
       "        const element = document.querySelector('#df-c9dbf73b-8528-46a4-8242-8714c3ebb35e');\n",
       "        const dataTable =\n",
       "          await google.colab.kernel.invokeFunction('convertToInteractive',\n",
       "                                                    [key], {});\n",
       "        if (!dataTable) return;\n",
       "\n",
       "        const docLinkHtml = 'Like what you see? Visit the ' +\n",
       "          '<a target=\"_blank\" href=https://colab.research.google.com/notebooks/data_table.ipynb>data table notebook</a>'\n",
       "          + ' to learn more about interactive tables.';\n",
       "        element.innerHTML = '';\n",
       "        dataTable['output_type'] = 'display_data';\n",
       "        await google.colab.output.renderOutput(dataTable, element);\n",
       "        const docLink = document.createElement('div');\n",
       "        docLink.innerHTML = docLinkHtml;\n",
       "        element.appendChild(docLink);\n",
       "      }\n",
       "    </script>\n",
       "  </div>\n",
       "\n",
       "\n",
       "<div id=\"df-16b3f071-0f86-4cbe-87be-1e0bf30621df\">\n",
       "  <button class=\"colab-df-quickchart\" onclick=\"quickchart('df-16b3f071-0f86-4cbe-87be-1e0bf30621df')\"\n",
       "            title=\"Suggest charts\"\n",
       "            style=\"display:none;\">\n",
       "\n",
       "<svg xmlns=\"http://www.w3.org/2000/svg\" height=\"24px\"viewBox=\"0 0 24 24\"\n",
       "     width=\"24px\">\n",
       "    <g>\n",
       "        <path d=\"M19 3H5c-1.1 0-2 .9-2 2v14c0 1.1.9 2 2 2h14c1.1 0 2-.9 2-2V5c0-1.1-.9-2-2-2zM9 17H7v-7h2v7zm4 0h-2V7h2v10zm4 0h-2v-4h2v4z\"/>\n",
       "    </g>\n",
       "</svg>\n",
       "  </button>\n",
       "\n",
       "<style>\n",
       "  .colab-df-quickchart {\n",
       "      --bg-color: #E8F0FE;\n",
       "      --fill-color: #1967D2;\n",
       "      --hover-bg-color: #E2EBFA;\n",
       "      --hover-fill-color: #174EA6;\n",
       "      --disabled-fill-color: #AAA;\n",
       "      --disabled-bg-color: #DDD;\n",
       "  }\n",
       "\n",
       "  [theme=dark] .colab-df-quickchart {\n",
       "      --bg-color: #3B4455;\n",
       "      --fill-color: #D2E3FC;\n",
       "      --hover-bg-color: #434B5C;\n",
       "      --hover-fill-color: #FFFFFF;\n",
       "      --disabled-bg-color: #3B4455;\n",
       "      --disabled-fill-color: #666;\n",
       "  }\n",
       "\n",
       "  .colab-df-quickchart {\n",
       "    background-color: var(--bg-color);\n",
       "    border: none;\n",
       "    border-radius: 50%;\n",
       "    cursor: pointer;\n",
       "    display: none;\n",
       "    fill: var(--fill-color);\n",
       "    height: 32px;\n",
       "    padding: 0;\n",
       "    width: 32px;\n",
       "  }\n",
       "\n",
       "  .colab-df-quickchart:hover {\n",
       "    background-color: var(--hover-bg-color);\n",
       "    box-shadow: 0 1px 2px rgba(60, 64, 67, 0.3), 0 1px 3px 1px rgba(60, 64, 67, 0.15);\n",
       "    fill: var(--button-hover-fill-color);\n",
       "  }\n",
       "\n",
       "  .colab-df-quickchart-complete:disabled,\n",
       "  .colab-df-quickchart-complete:disabled:hover {\n",
       "    background-color: var(--disabled-bg-color);\n",
       "    fill: var(--disabled-fill-color);\n",
       "    box-shadow: none;\n",
       "  }\n",
       "\n",
       "  .colab-df-spinner {\n",
       "    border: 2px solid var(--fill-color);\n",
       "    border-color: transparent;\n",
       "    border-bottom-color: var(--fill-color);\n",
       "    animation:\n",
       "      spin 1s steps(1) infinite;\n",
       "  }\n",
       "\n",
       "  @keyframes spin {\n",
       "    0% {\n",
       "      border-color: transparent;\n",
       "      border-bottom-color: var(--fill-color);\n",
       "      border-left-color: var(--fill-color);\n",
       "    }\n",
       "    20% {\n",
       "      border-color: transparent;\n",
       "      border-left-color: var(--fill-color);\n",
       "      border-top-color: var(--fill-color);\n",
       "    }\n",
       "    30% {\n",
       "      border-color: transparent;\n",
       "      border-left-color: var(--fill-color);\n",
       "      border-top-color: var(--fill-color);\n",
       "      border-right-color: var(--fill-color);\n",
       "    }\n",
       "    40% {\n",
       "      border-color: transparent;\n",
       "      border-right-color: var(--fill-color);\n",
       "      border-top-color: var(--fill-color);\n",
       "    }\n",
       "    60% {\n",
       "      border-color: transparent;\n",
       "      border-right-color: var(--fill-color);\n",
       "    }\n",
       "    80% {\n",
       "      border-color: transparent;\n",
       "      border-right-color: var(--fill-color);\n",
       "      border-bottom-color: var(--fill-color);\n",
       "    }\n",
       "    90% {\n",
       "      border-color: transparent;\n",
       "      border-bottom-color: var(--fill-color);\n",
       "    }\n",
       "  }\n",
       "</style>\n",
       "\n",
       "  <script>\n",
       "    async function quickchart(key) {\n",
       "      const quickchartButtonEl =\n",
       "        document.querySelector('#' + key + ' button');\n",
       "      quickchartButtonEl.disabled = true;  // To prevent multiple clicks.\n",
       "      quickchartButtonEl.classList.add('colab-df-spinner');\n",
       "      try {\n",
       "        const charts = await google.colab.kernel.invokeFunction(\n",
       "            'suggestCharts', [key], {});\n",
       "      } catch (error) {\n",
       "        console.error('Error during call to suggestCharts:', error);\n",
       "      }\n",
       "      quickchartButtonEl.classList.remove('colab-df-spinner');\n",
       "      quickchartButtonEl.classList.add('colab-df-quickchart-complete');\n",
       "    }\n",
       "    (() => {\n",
       "      let quickchartButtonEl =\n",
       "        document.querySelector('#df-16b3f071-0f86-4cbe-87be-1e0bf30621df button');\n",
       "      quickchartButtonEl.style.display =\n",
       "        google.colab.kernel.accessAllowed ? 'block' : 'none';\n",
       "    })();\n",
       "  </script>\n",
       "</div>\n",
       "\n",
       "    </div>\n",
       "  </div>\n"
      ],
      "text/plain": [
       "   age  gender  emotion                               img_path\n",
       "0    2       1        3   2_1_3_20161219225311520.jpg.chip.jpg\n",
       "1   45       1        3  45_1_3_20170119183505494.jpg.chip.jpg\n",
       "2   35       0        3  35_0_3_20170119201342436.jpg.chip.jpg\n",
       "3   16       1        4  16_1_4_20170102234841875.jpg.chip.jpg\n",
       "4   60       1        0  60_1_0_20170110141759687.jpg.chip.jpg"
      ]
     },
     "execution_count": 28,
     "metadata": {},
     "output_type": "execute_result"
    }
   ],
   "source": [
    "df.head()"
   ]
  },
  {
   "cell_type": "code",
   "execution_count": 58,
   "metadata": {
    "colab": {
     "base_uri": "https://localhost:8080/"
    },
    "id": "dNiVu7aB3m9K",
    "outputId": "55d7a7b0-4cc0-4008-80fd-b26d1026817c"
   },
   "outputs": [
    {
     "data": {
      "text/plain": [
       "emotion\n",
       "0    10078\n",
       "1     4526\n",
       "3     3975\n",
       "2     3437\n",
       "4     1692\n",
       "Name: count, dtype: int64"
      ]
     },
     "execution_count": 58,
     "metadata": {},
     "output_type": "execute_result"
    }
   ],
   "source": [
    "df['emotion'].value_counts()"
   ]
  },
  {
   "cell_type": "code",
   "execution_count": 39,
   "metadata": {
    "colab": {
     "base_uri": "https://localhost:8080/"
    },
    "id": "HC_GkY1IlS0m",
    "outputId": "daedbf80-6722-4446-968a-dc833afd7650"
   },
   "outputs": [
    {
     "name": "stdout",
     "output_type": "stream",
     "text": [
      "(20000, 4) (3708, 4)\n"
     ]
    }
   ],
   "source": [
    "train_df = df.sample(frac = 1, random_state = 0).iloc[:20000]\n",
    "test_df = df.sample(frac = 1, random_state = 0).iloc[20000:]\n",
    "\n",
    "print(train_df.shape, test_df.shape)"
   ]
  },
  {
   "cell_type": "code",
   "execution_count": 43,
   "metadata": {
    "id": "-6IqtVsGllxU"
   },
   "outputs": [],
   "source": [
    "train_datagen = ImageDataGenerator(rotation_range = 30,\n",
    "                                   width_shift_range = 0.2,\n",
    "                                   height_shift_range = 0.2,\n",
    "                                   shear_range = 0.2,\n",
    "                                   zoom_range = 0.3,\n",
    "                                   channel_shift_range = 0.2,\n",
    "                                   fill_mode = \"nearest\",\n",
    "                                   horizontal_flip = True,\n",
    "                                   vertical_flip = True,\n",
    "                                   rescale = 1./255)\n",
    "\n",
    "test_datagen = ImageDataGenerator(rescale = 1./255)"
   ]
  },
  {
   "cell_type": "code",
   "execution_count": 44,
   "metadata": {
    "colab": {
     "base_uri": "https://localhost:8080/"
    },
    "id": "8olRVPsEm-Sn",
    "outputId": "c8acf7f0-6cdd-435d-e702-5acb53d12b49"
   },
   "outputs": [
    {
     "name": "stdout",
     "output_type": "stream",
     "text": [
      "Found 20000 validated image filenames.\n"
     ]
    }
   ],
   "source": [
    "train_generator = train_datagen.flow_from_dataframe(train_df, directory = folder_path,\n",
    "                                                    x_col = 'img_path', y_col = ['age', 'gender', 'emotion'],\n",
    "                                                    target_size = (200, 200),\n",
    "                                                    class_mode = 'multi_output')"
   ]
  },
  {
   "cell_type": "code",
   "execution_count": 45,
   "metadata": {
    "colab": {
     "base_uri": "https://localhost:8080/"
    },
    "id": "-Ay1mik9nlMj",
    "outputId": "2f17de0d-0060-4db7-fccc-d93a3b67f63c"
   },
   "outputs": [
    {
     "name": "stdout",
     "output_type": "stream",
     "text": [
      "Found 3708 validated image filenames.\n"
     ]
    }
   ],
   "source": [
    "test_generator = test_datagen.flow_from_dataframe(test_df, directory = folder_path,\n",
    "                                                    x_col = 'img_path', y_col = ['age', 'gender', 'emotion'],\n",
    "                                                    target_size = (200, 200),\n",
    "                                                    class_mode = 'multi_output')"
   ]
  },
  {
   "cell_type": "markdown",
   "metadata": {
    "id": "ue7zGPGzouiB"
   },
   "source": [
    "Building VGG 16 Architecture"
   ]
  },
  {
   "cell_type": "code",
   "execution_count": 47,
   "metadata": {
    "id": "MhHxDPewoi8y"
   },
   "outputs": [],
   "source": [
    "from keras.applications.vgg16 import VGG16\n",
    "from keras.layers import *\n",
    "from keras.models import Model"
   ]
  },
  {
   "cell_type": "code",
   "execution_count": 59,
   "metadata": {
    "colab": {
     "base_uri": "https://localhost:8080/"
    },
    "id": "2dyzd2--pM12",
    "outputId": "5c52789c-e651-4b77-eec0-08c7ad5db140"
   },
   "outputs": [
    {
     "name": "stdout",
     "output_type": "stream",
     "text": [
      "Model: \"model_2\"\n",
      "__________________________________________________________________________________________________\n",
      " Layer (type)                Output Shape                 Param #   Connected to                  \n",
      "==================================================================================================\n",
      " input_3 (InputLayer)        [(None, 200, 200, 3)]        0         []                            \n",
      "                                                                                                  \n",
      " block1_conv1 (Conv2D)       (None, 200, 200, 64)         1792      ['input_3[0][0]']             \n",
      "                                                                                                  \n",
      " block1_conv2 (Conv2D)       (None, 200, 200, 64)         36928     ['block1_conv1[0][0]']        \n",
      "                                                                                                  \n",
      " block1_pool (MaxPooling2D)  (None, 100, 100, 64)         0         ['block1_conv2[0][0]']        \n",
      "                                                                                                  \n",
      " block2_conv1 (Conv2D)       (None, 100, 100, 128)        73856     ['block1_pool[0][0]']         \n",
      "                                                                                                  \n",
      " block2_conv2 (Conv2D)       (None, 100, 100, 128)        147584    ['block2_conv1[0][0]']        \n",
      "                                                                                                  \n",
      " block2_pool (MaxPooling2D)  (None, 50, 50, 128)          0         ['block2_conv2[0][0]']        \n",
      "                                                                                                  \n",
      " block3_conv1 (Conv2D)       (None, 50, 50, 256)          295168    ['block2_pool[0][0]']         \n",
      "                                                                                                  \n",
      " block3_conv2 (Conv2D)       (None, 50, 50, 256)          590080    ['block3_conv1[0][0]']        \n",
      "                                                                                                  \n",
      " block3_conv3 (Conv2D)       (None, 50, 50, 256)          590080    ['block3_conv2[0][0]']        \n",
      "                                                                                                  \n",
      " block3_pool (MaxPooling2D)  (None, 25, 25, 256)          0         ['block3_conv3[0][0]']        \n",
      "                                                                                                  \n",
      " block4_conv1 (Conv2D)       (None, 25, 25, 512)          1180160   ['block3_pool[0][0]']         \n",
      "                                                                                                  \n",
      " block4_conv2 (Conv2D)       (None, 25, 25, 512)          2359808   ['block4_conv1[0][0]']        \n",
      "                                                                                                  \n",
      " block4_conv3 (Conv2D)       (None, 25, 25, 512)          2359808   ['block4_conv2[0][0]']        \n",
      "                                                                                                  \n",
      " block4_pool (MaxPooling2D)  (None, 12, 12, 512)          0         ['block4_conv3[0][0]']        \n",
      "                                                                                                  \n",
      " block5_conv1 (Conv2D)       (None, 12, 12, 512)          2359808   ['block4_pool[0][0]']         \n",
      "                                                                                                  \n",
      " block5_conv2 (Conv2D)       (None, 12, 12, 512)          2359808   ['block5_conv1[0][0]']        \n",
      "                                                                                                  \n",
      " block5_conv3 (Conv2D)       (None, 12, 12, 512)          2359808   ['block5_conv2[0][0]']        \n",
      "                                                                                                  \n",
      " block5_pool (MaxPooling2D)  (None, 6, 6, 512)            0         ['block5_conv3[0][0]']        \n",
      "                                                                                                  \n",
      " flatten_2 (Flatten)         (None, 18432)                0         ['block5_pool[0][0]']         \n",
      "                                                                                                  \n",
      " dense_12 (Dense)            (None, 512)                  9437696   ['flatten_2[0][0]']           \n",
      "                                                                                                  \n",
      " dense_13 (Dense)            (None, 512)                  9437696   ['flatten_2[0][0]']           \n",
      "                                                                                                  \n",
      " dense_14 (Dense)            (None, 512)                  9437696   ['flatten_2[0][0]']           \n",
      "                                                                                                  \n",
      " dense_15 (Dense)            (None, 512)                  262656    ['dense_12[0][0]']            \n",
      "                                                                                                  \n",
      " dense_16 (Dense)            (None, 512)                  262656    ['dense_13[0][0]']            \n",
      "                                                                                                  \n",
      " dense_17 (Dense)            (None, 512)                  262656    ['dense_14[0][0]']            \n",
      "                                                                                                  \n",
      " age (Dense)                 (None, 1)                    513       ['dense_15[0][0]']            \n",
      "                                                                                                  \n",
      " gender (Dense)              (None, 1)                    513       ['dense_16[0][0]']            \n",
      "                                                                                                  \n",
      " emotion (Dense)             (None, 5)                    2565      ['dense_17[0][0]']            \n",
      "                                                                                                  \n",
      "==================================================================================================\n",
      "Total params: 43819335 (167.16 MB)\n",
      "Trainable params: 29104647 (111.03 MB)\n",
      "Non-trainable params: 14714688 (56.13 MB)\n",
      "__________________________________________________________________________________________________\n"
     ]
    }
   ],
   "source": [
    "vgg16_model = VGG16(include_top = False,\n",
    "                    weights = \"imagenet\",\n",
    "                    input_shape = (200, 200, 3))\n",
    "vgg16_model.trainable = False\n",
    "# We give false to not change the actual VGG model trained with imagenet\n",
    "\n",
    "output = vgg16_model.layers[-1].output # -1 to access the last layer (Dense layer)\n",
    "flatten = Flatten()(output)\n",
    "\n",
    "dense1 = Dense(512, activation = 'relu')(flatten) # Age\n",
    "dense2 = Dense(512, activation = 'relu')(flatten) # Gender\n",
    "dense3 = Dense(512, activation = 'relu')(flatten) # Emotion\n",
    "\n",
    "# Age\n",
    "dense4 = Dense(512, activation = 'relu')(dense1)\n",
    "\n",
    "# Gender\n",
    "dense5 = Dense(512, activation = 'relu')(dense2)\n",
    "\n",
    "# Emotion\n",
    "dense6 = Dense(512, activation = 'relu')(dense3)\n",
    "\n",
    "# Outputs\n",
    "output1 = Dense(1, activation = 'linear', name = 'age')(dense4)\n",
    "output2 = Dense(1, activation = 'sigmoid', name = 'gender')(dense5)\n",
    "output3 = Dense(5, activation = 'softmax', name = 'emotion')(dense6)\n",
    "\n",
    "# Functional API\n",
    "model = Model(inputs = vgg16_model.input, outputs = [output1, output2, output3])\n",
    "model.summary()"
   ]
  },
  {
   "cell_type": "code",
   "execution_count": 60,
   "metadata": {
    "id": "3eSp5LiiryPy"
   },
   "outputs": [],
   "source": [
    "model.compile(optimizer = 'adam', loss = {'age' : 'mae', 'gender' : 'binary_crossentropy', 'emotion' : 'sparse_categorical_crossentropy'},\n",
    "                      metrics = {'age' : 'mae', 'gender' : 'accuracy', 'emotion' : 'accuracy'})"
   ]
  },
  {
   "cell_type": "code",
   "execution_count": 61,
   "metadata": {
    "colab": {
     "base_uri": "https://localhost:8080/"
    },
    "id": "94ar0nARskH2",
    "outputId": "f47ab3ec-0ea3-4677-ec54-53ede6a388a6"
   },
   "outputs": [
    {
     "name": "stdout",
     "output_type": "stream",
     "text": [
      "Epoch 1/10\n",
      "625/625 [==============================] - 256s 405ms/step - loss: 13.5044 - age_loss: 11.6570 - gender_loss: 0.5842 - emotion_loss: 1.2632 - age_mae: 11.6570 - gender_accuracy: 0.7002 - emotion_accuracy: 0.5116 - val_loss: 13.1493 - val_age_loss: 11.6025 - val_gender_loss: 0.4204 - val_emotion_loss: 1.1263 - val_age_mae: 11.6025 - val_gender_accuracy: 0.8056 - val_emotion_accuracy: 0.5591\n",
      "Epoch 2/10\n",
      "625/625 [==============================] - 245s 393ms/step - loss: 12.1005 - age_loss: 10.4541 - gender_loss: 0.5010 - emotion_loss: 1.1454 - age_mae: 10.4541 - gender_accuracy: 0.7493 - emotion_accuracy: 0.5589 - val_loss: 10.6113 - val_age_loss: 9.1559 - val_gender_loss: 0.4297 - val_emotion_loss: 1.0257 - val_age_mae: 9.1559 - val_gender_accuracy: 0.8056 - val_emotion_accuracy: 0.6259\n",
      "Epoch 3/10\n",
      "625/625 [==============================] - 245s 391ms/step - loss: 11.5643 - age_loss: 9.9747 - gender_loss: 0.4850 - emotion_loss: 1.1046 - age_mae: 9.9747 - gender_accuracy: 0.7599 - emotion_accuracy: 0.5760 - val_loss: 11.2148 - val_age_loss: 9.7111 - val_gender_loss: 0.3982 - val_emotion_loss: 1.1055 - val_age_mae: 9.7111 - val_gender_accuracy: 0.8083 - val_emotion_accuracy: 0.5909\n",
      "Epoch 4/10\n",
      "625/625 [==============================] - 244s 390ms/step - loss: 11.2954 - age_loss: 9.7353 - gender_loss: 0.4637 - emotion_loss: 1.0964 - age_mae: 9.7353 - gender_accuracy: 0.7734 - emotion_accuracy: 0.5845 - val_loss: 10.4522 - val_age_loss: 9.0304 - val_gender_loss: 0.3893 - val_emotion_loss: 1.0325 - val_age_mae: 9.0304 - val_gender_accuracy: 0.8198 - val_emotion_accuracy: 0.6219\n",
      "Epoch 5/10\n",
      "625/625 [==============================] - 245s 392ms/step - loss: 11.1666 - age_loss: 9.6296 - gender_loss: 0.4594 - emotion_loss: 1.0776 - age_mae: 9.6296 - gender_accuracy: 0.7782 - emotion_accuracy: 0.5890 - val_loss: 10.4954 - val_age_loss: 9.1275 - val_gender_loss: 0.3874 - val_emotion_loss: 0.9805 - val_age_mae: 9.1275 - val_gender_accuracy: 0.8274 - val_emotion_accuracy: 0.6321\n",
      "Epoch 6/10\n",
      "625/625 [==============================] - 247s 395ms/step - loss: 10.9065 - age_loss: 9.3827 - gender_loss: 0.4574 - emotion_loss: 1.0665 - age_mae: 9.3827 - gender_accuracy: 0.7796 - emotion_accuracy: 0.5933 - val_loss: 10.3053 - val_age_loss: 8.9584 - val_gender_loss: 0.3743 - val_emotion_loss: 0.9726 - val_age_mae: 8.9584 - val_gender_accuracy: 0.8250 - val_emotion_accuracy: 0.6357\n",
      "Epoch 7/10\n",
      "625/625 [==============================] - 244s 391ms/step - loss: 10.8727 - age_loss: 9.3655 - gender_loss: 0.4496 - emotion_loss: 1.0576 - age_mae: 9.3655 - gender_accuracy: 0.7811 - emotion_accuracy: 0.5996 - val_loss: 10.2038 - val_age_loss: 8.7850 - val_gender_loss: 0.3921 - val_emotion_loss: 1.0268 - val_age_mae: 8.7850 - val_gender_accuracy: 0.8193 - val_emotion_accuracy: 0.5979\n",
      "Epoch 8/10\n",
      "625/625 [==============================] - 245s 392ms/step - loss: 10.7762 - age_loss: 9.2923 - gender_loss: 0.4433 - emotion_loss: 1.0406 - age_mae: 9.2923 - gender_accuracy: 0.7896 - emotion_accuracy: 0.6066 - val_loss: 9.6613 - val_age_loss: 8.3405 - val_gender_loss: 0.3672 - val_emotion_loss: 0.9535 - val_age_mae: 8.3405 - val_gender_accuracy: 0.8325 - val_emotion_accuracy: 0.6405\n",
      "Epoch 9/10\n",
      "625/625 [==============================] - 246s 393ms/step - loss: 10.6503 - age_loss: 9.1567 - gender_loss: 0.4438 - emotion_loss: 1.0498 - age_mae: 9.1567 - gender_accuracy: 0.7854 - emotion_accuracy: 0.6019 - val_loss: 10.0972 - val_age_loss: 8.7433 - val_gender_loss: 0.3801 - val_emotion_loss: 0.9738 - val_age_mae: 8.7433 - val_gender_accuracy: 0.8325 - val_emotion_accuracy: 0.6443\n",
      "Epoch 10/10\n",
      "625/625 [==============================] - 246s 394ms/step - loss: 10.6261 - age_loss: 9.1518 - gender_loss: 0.4429 - emotion_loss: 1.0315 - age_mae: 9.1518 - gender_accuracy: 0.7859 - emotion_accuracy: 0.6106 - val_loss: 9.4370 - val_age_loss: 8.1310 - val_gender_loss: 0.3618 - val_emotion_loss: 0.9443 - val_age_mae: 8.1310 - val_gender_accuracy: 0.8341 - val_emotion_accuracy: 0.6516\n"
     ]
    }
   ],
   "source": [
    "history = model.fit(train_generator, batch_size = 32, epochs = 10, validation_data = test_generator)"
   ]
  },
  {
   "cell_type": "code",
   "execution_count": null,
   "metadata": {},
   "outputs": [],
   "source": []
  }
 ],
 "metadata": {
  "accelerator": "GPU",
  "colab": {
   "gpuType": "T4",
   "provenance": []
  },
  "kernelspec": {
   "display_name": "Python 3 (ipykernel)",
   "language": "python",
   "name": "python3"
  },
  "language_info": {
   "codemirror_mode": {
    "name": "ipython",
    "version": 3
   },
   "file_extension": ".py",
   "mimetype": "text/x-python",
   "name": "python",
   "nbconvert_exporter": "python",
   "pygments_lexer": "ipython3",
   "version": "3.8.19"
  }
 },
 "nbformat": 4,
 "nbformat_minor": 4
}
